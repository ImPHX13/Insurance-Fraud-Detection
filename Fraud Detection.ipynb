{
 "cells": [
  {
   "cell_type": "code",
   "execution_count": 1,
   "id": "a2463696",
   "metadata": {},
   "outputs": [],
   "source": [
    "# Import libraries\n",
    "import pandas as pd\n",
    "import numpy as np\n",
    "from sklearn.model_selection import train_test_split\n",
    "from sklearn.ensemble import RandomForestClassifier\n",
    "from sklearn.tree import DecisionTreeClassifier\n",
    "from sklearn.model_selection import GridSearchCV\n",
    "from sklearn.model_selection import RandomizedSearchCV\n",
    "from sklearn.model_selection import cross_val_score\n",
    "from sklearn.metrics import classification_report, confusion_matrix\n",
    "import time"
   ]
  },
  {
   "cell_type": "code",
   "execution_count": 2,
   "id": "1e2b9e6f",
   "metadata": {},
   "outputs": [
    {
     "name": "stdout",
     "output_type": "stream",
     "text": [
      "(2999, 32)\n",
      "  MONTH  WEEKOFMONTH  DAYOFWEEK     MAKE ACCIDENTAREA DAYOFWEEKCLAIMED  \\\n",
      "0   Jul            3     Sunday    Honda        Rural        Wednesday   \n",
      "1   Nov            5     Monday    Mazda        Urban        Wednesday   \n",
      "2   Jan            1     Monday  Pontiac        Urban        Wednesday   \n",
      "3   Dec            1     Monday   Toyota        Rural          Tuesday   \n",
      "4   Dec            5  Wednesday  Pontiac        Urban        Wednesday   \n",
      "\n",
      "  MONTHCLAIMED  WEEKOFMONTHCLAIMED   SEX MARITALSTATUS  ...  \\\n",
      "0          Jan                   4  Male       Married  ...   \n",
      "1          Dec                   1  Male        Single  ...   \n",
      "2          Jan                   1  Male       Married  ...   \n",
      "3          May                   3  Male       Married  ...   \n",
      "4          Jan                   1  Male        Single  ...   \n",
      "\n",
      "   AGEOFPOLICYHOLDER POLICEREPORTFILED WITNESSPRESENT AGENTTYPE  \\\n",
      "0           26_to_30                No             No  External   \n",
      "1            over_65                No             No  External   \n",
      "2           41_to_50                No             No  External   \n",
      "3           36_to_40                No             No  External   \n",
      "4           36_to_40                No             No  External   \n",
      "\n",
      "  NUMBEROFSUPPLIMENTS  ADDRESSCHANGE_CLAIM  NUMBEROFCARS  YEAR  BASEPOLICY  \\\n",
      "0              3_to_5            no_change     1-vehicle  1994   Collision   \n",
      "1                none            no_change     1-vehicle  1994  All_Perils   \n",
      "2                none       under_6_months     1-vehicle  1994  All_Perils   \n",
      "3         more_than_5       under_6_months    2-vehicles  1994  All_Perils   \n",
      "4         more_than_5            no_change     1-vehicle  1994   Collision   \n",
      "\n",
      "  FRAUDFOUND  \n",
      "0        Yes  \n",
      "1        Yes  \n",
      "2        Yes  \n",
      "3        Yes  \n",
      "4        Yes  \n",
      "\n",
      "[5 rows x 32 columns]\n"
     ]
    }
   ],
   "source": [
    "# Import training and testing datasets\n",
    "trainfile = r'Insurance Fraud - TRAIN-3000.csv'\n",
    "trainData = pd.read_csv(trainfile)\n",
    "testfile = r'Insurance Fraud -TEST-12900.csv'\n",
    "testData = pd.read_csv(testfile)\n",
    "\n",
    "# Dimensions of the training dataset\n",
    "print(trainData.shape)\n",
    "\n",
    "print(trainData.head())"
   ]
  },
  {
   "cell_type": "code",
   "execution_count": 3,
   "id": "07e32fab",
   "metadata": {},
   "outputs": [
    {
     "name": "stdout",
     "output_type": "stream",
     "text": [
      "(12918, 32)\n",
      "  MONTH  WEEKOFMONTH  DAYOFWEEK     MAKE ACCIDENTAREA DAYOFWEEKCLAIMED  \\\n",
      "0   Jul            3     Sunday    Honda        Rural        Wednesday   \n",
      "1   Nov            5     Monday    Mazda        Urban        Wednesday   \n",
      "2   Jan            1     Monday  Pontiac        Urban        Wednesday   \n",
      "3   Dec            1     Monday   Toyota        Rural          Tuesday   \n",
      "4   Dec            5  Wednesday  Pontiac        Urban        Wednesday   \n",
      "\n",
      "  MONTHCLAIMED  WEEKOFMONTHCLAIMED   SEX MARITALSTATUS  ...  \\\n",
      "0          Jan                   4  Male       Married  ...   \n",
      "1          Dec                   1  Male        Single  ...   \n",
      "2          Jan                   1  Male       Married  ...   \n",
      "3          May                   3  Male       Married  ...   \n",
      "4          Jan                   1  Male        Single  ...   \n",
      "\n",
      "   AGEOFPOLICYHOLDER POLICEREPORTFILED WITNESSPRESENT AGENTTYPE  \\\n",
      "0           26_to_30                No             No  External   \n",
      "1            over_65                No             No  External   \n",
      "2           41_to_50                No             No  External   \n",
      "3           36_to_40                No             No  External   \n",
      "4           36_to_40                No             No  External   \n",
      "\n",
      "  NUMBEROFSUPPLIMENTS  ADDRESSCHANGE_CLAIM  NUMBEROFCARS  YEAR  BASEPOLICY  \\\n",
      "0              3_to_5            no_change     1-vehicle  1994   Collision   \n",
      "1                none            no_change     1-vehicle  1994  All_Perils   \n",
      "2                none       under_6_months     1-vehicle  1994  All_Perils   \n",
      "3         more_than_5       under_6_months    2-vehicles  1994  All_Perils   \n",
      "4         more_than_5            no_change     1-vehicle  1994   Collision   \n",
      "\n",
      "  FRAUDFOUND  \n",
      "0        Yes  \n",
      "1        Yes  \n",
      "2        Yes  \n",
      "3        Yes  \n",
      "4        Yes  \n",
      "\n",
      "[5 rows x 32 columns]\n"
     ]
    }
   ],
   "source": [
    "# Dimensions of the testing dataset\n",
    "print(testData.shape)\n",
    "print(testData.head())"
   ]
  },
  {
   "cell_type": "code",
   "execution_count": 4,
   "id": "4ca4731b",
   "metadata": {
    "scrolled": true
   },
   "outputs": [
    {
     "name": "stdout",
     "output_type": "stream",
     "text": [
      "<class 'pandas.core.frame.DataFrame'>\n",
      "RangeIndex: 2999 entries, 0 to 2998\n",
      "Data columns (total 32 columns):\n",
      " #   Column                Non-Null Count  Dtype \n",
      "---  ------                --------------  ----- \n",
      " 0   MONTH                 2999 non-null   object\n",
      " 1   WEEKOFMONTH           2999 non-null   int64 \n",
      " 2   DAYOFWEEK             2999 non-null   object\n",
      " 3   MAKE                  2999 non-null   object\n",
      " 4   ACCIDENTAREA          2999 non-null   object\n",
      " 5   DAYOFWEEKCLAIMED      2999 non-null   object\n",
      " 6   MONTHCLAIMED          2999 non-null   object\n",
      " 7   WEEKOFMONTHCLAIMED    2999 non-null   int64 \n",
      " 8   SEX                   2999 non-null   object\n",
      " 9   MARITALSTATUS         2999 non-null   object\n",
      " 10  AGE                   2999 non-null   int64 \n",
      " 11  FAULT                 2999 non-null   object\n",
      " 12  POLICYTYPE            2999 non-null   object\n",
      " 13  VEHICLECATEGORY       2999 non-null   object\n",
      " 14  VEHICLEPRICE          2999 non-null   object\n",
      " 15  REPNUMBER             2999 non-null   int64 \n",
      " 16  DEDUCTIBLE            2999 non-null   int64 \n",
      " 17  DRIVERRATING          2999 non-null   int64 \n",
      " 18  DAYS_POLICY_ACCIDENT  2999 non-null   object\n",
      " 19  DAYS_POLICY_CLAIM     2999 non-null   object\n",
      " 20  PASTNUMBEROFCLAIMS    2999 non-null   object\n",
      " 21  AGEOFVEHICLE          2999 non-null   object\n",
      " 22  AGEOFPOLICYHOLDER     2999 non-null   object\n",
      " 23  POLICEREPORTFILED     2999 non-null   object\n",
      " 24  WITNESSPRESENT        2999 non-null   object\n",
      " 25  AGENTTYPE             2999 non-null   object\n",
      " 26  NUMBEROFSUPPLIMENTS   2999 non-null   object\n",
      " 27  ADDRESSCHANGE_CLAIM   2999 non-null   object\n",
      " 28  NUMBEROFCARS          2999 non-null   object\n",
      " 29  YEAR                  2999 non-null   int64 \n",
      " 30  BASEPOLICY            2999 non-null   object\n",
      " 31  FRAUDFOUND            2999 non-null   object\n",
      "dtypes: int64(7), object(25)\n",
      "memory usage: 749.9+ KB\n"
     ]
    }
   ],
   "source": [
    "# Checking for null values\n",
    "trainData.info()"
   ]
  },
  {
   "cell_type": "code",
   "execution_count": 5,
   "id": "186968c6",
   "metadata": {
    "scrolled": true
   },
   "outputs": [
    {
     "data": {
      "text/plain": [
       "No     2600\n",
       "Yes     399\n",
       "Name: FRAUDFOUND, dtype: int64"
      ]
     },
     "execution_count": 5,
     "metadata": {},
     "output_type": "execute_result"
    }
   ],
   "source": [
    "trainData.FRAUDFOUND.value_counts()"
   ]
  },
  {
   "cell_type": "code",
   "execution_count": 6,
   "id": "bd02e58c",
   "metadata": {},
   "outputs": [],
   "source": [
    "# Copying train and test data without the target variable\n",
    "trainData_Copy = trainData.iloc[:, :-1].copy()\n",
    "testData_Copy = testData.iloc[:, :-1].copy()"
   ]
  },
  {
   "cell_type": "code",
   "execution_count": 7,
   "id": "d6e4560a",
   "metadata": {},
   "outputs": [],
   "source": [
    "# List of all categorical features\n",
    "categorical_features = []\n",
    "for col in trainData_Copy.columns:\n",
    "  if col in testData_Copy.columns:\n",
    "    categorical_features.append(col)"
   ]
  },
  {
   "cell_type": "code",
   "execution_count": 8,
   "id": "bfcdb4b8",
   "metadata": {},
   "outputs": [
    {
     "name": "stdout",
     "output_type": "stream",
     "text": [
      "['MONTH', 'WEEKOFMONTH', 'DAYOFWEEK', 'MAKE', 'ACCIDENTAREA', 'DAYOFWEEKCLAIMED', 'MONTHCLAIMED', 'WEEKOFMONTHCLAIMED', 'SEX', 'MARITALSTATUS', 'FAULT', 'POLICYTYPE', 'VEHICLECATEGORY', 'VEHICLEPRICE', 'REPNUMBER', 'DEDUCTIBLE', 'DRIVERRATING', 'DAYS_POLICY_ACCIDENT', 'DAYS_POLICY_CLAIM', 'PASTNUMBEROFCLAIMS', 'AGEOFVEHICLE', 'AGEOFPOLICYHOLDER', 'POLICEREPORTFILED', 'WITNESSPRESENT', 'AGENTTYPE', 'NUMBEROFSUPPLIMENTS', 'ADDRESSCHANGE_CLAIM', 'NUMBEROFCARS', 'YEAR', 'BASEPOLICY']\n"
     ]
    }
   ],
   "source": [
    "# Removing age from categorical features as it provides no useful information\n",
    "categorical_features.remove(\"AGE\")\n",
    "print (categorical_features)"
   ]
  },
  {
   "cell_type": "code",
   "execution_count": 9,
   "id": "9b19e4f8",
   "metadata": {
    "scrolled": true
   },
   "outputs": [
    {
     "name": "stdout",
     "output_type": "stream",
     "text": [
      "----------------------------------------------------------------\n",
      "   AGE  MONTH_Apr  MONTH_Aug  MONTH_Dec  MONTH_Feb  MONTH_Jan  MONTH_Jul  \\\n",
      "0   21          0          0          0          0          0          1   \n",
      "1   68          0          0          0          0          0          0   \n",
      "2   50          0          0          0          0          1          0   \n",
      "3   39          0          0          1          0          0          0   \n",
      "4   43          0          0          1          0          0          0   \n",
      "\n",
      "   MONTH_Jun  MONTH_Mar  MONTH_May  ...  NUMBEROFCARS_2-vehicles  \\\n",
      "0          0          0          0  ...                        0   \n",
      "1          0          0          0  ...                        0   \n",
      "2          0          0          0  ...                        0   \n",
      "3          0          0          0  ...                        1   \n",
      "4          0          0          0  ...                        0   \n",
      "\n",
      "   NUMBEROFCARS_3_to_4  NUMBEROFCARS_5_to_8  NUMBEROFCARS_more_than_8  \\\n",
      "0                    0                    0                         0   \n",
      "1                    0                    0                         0   \n",
      "2                    0                    0                         0   \n",
      "3                    0                    0                         0   \n",
      "4                    0                    0                         0   \n",
      "\n",
      "   YEAR_1994  YEAR_1995  YEAR_1996  BASEPOLICY_All_Perils  \\\n",
      "0          1          0          0                      0   \n",
      "1          1          0          0                      1   \n",
      "2          1          0          0                      1   \n",
      "3          1          0          0                      1   \n",
      "4          1          0          0                      0   \n",
      "\n",
      "   BASEPOLICY_Collision  BASEPOLICY_Liability  \n",
      "0                     1                     0  \n",
      "1                     0                     0  \n",
      "2                     0                     0  \n",
      "3                     0                     0  \n",
      "4                     1                     0  \n",
      "\n",
      "[5 rows x 175 columns]\n",
      "   AGE  MONTH_Apr  MONTH_Aug  MONTH_Dec  MONTH_Feb  MONTH_Jan  MONTH_Jul  \\\n",
      "0   21          0          0          0          0          0          1   \n",
      "1   68          0          0          0          0          0          0   \n",
      "2   50          0          0          0          0          1          0   \n",
      "3   39          0          0          1          0          0          0   \n",
      "4   43          0          0          1          0          0          0   \n",
      "\n",
      "   MONTH_Jun  MONTH_Mar  MONTH_May  ...  NUMBEROFCARS_2-vehicles  \\\n",
      "0          0          0          0  ...                        0   \n",
      "1          0          0          0  ...                        0   \n",
      "2          0          0          0  ...                        0   \n",
      "3          0          0          0  ...                        1   \n",
      "4          0          0          0  ...                        0   \n",
      "\n",
      "   NUMBEROFCARS_3_to_4  NUMBEROFCARS_5_to_8  NUMBEROFCARS_more_than_8  \\\n",
      "0                    0                    0                         0   \n",
      "1                    0                    0                         0   \n",
      "2                    0                    0                         0   \n",
      "3                    0                    0                         0   \n",
      "4                    0                    0                         0   \n",
      "\n",
      "   YEAR_1994  YEAR_1995  YEAR_1996  BASEPOLICY_All_Perils  \\\n",
      "0          1          0          0                      0   \n",
      "1          1          0          0                      1   \n",
      "2          1          0          0                      1   \n",
      "3          1          0          0                      1   \n",
      "4          1          0          0                      0   \n",
      "\n",
      "   BASEPOLICY_Collision  BASEPOLICY_Liability  \n",
      "0                     1                     0  \n",
      "1                     0                     0  \n",
      "2                     0                     0  \n",
      "3                     0                     0  \n",
      "4                     1                     0  \n",
      "\n",
      "[5 rows x 175 columns]\n"
     ]
    }
   ],
   "source": [
    "# Combining train and test dataset in order to One Hot Encode categorical features\n",
    "combined_data = pd.concat([trainData_Copy,testData_Copy], keys=[0,1])\n",
    "\n",
    "# Performing one hot encoding by introducing dummies for categorical features\n",
    "combined_data = pd.get_dummies(combined_data,columns=categorical_features)\n",
    "\n",
    "# Separating train data and test data\n",
    "X_train = combined_data.xs(0)\n",
    "X_test = combined_data.xs(1)\n",
    "\n",
    "print('----------------------------------------------------------------')\n",
    "print(X_train.head())\n",
    "print(X_test.head())"
   ]
  },
  {
   "cell_type": "code",
   "execution_count": 10,
   "id": "cbf6cc64",
   "metadata": {},
   "outputs": [
    {
     "name": "stdout",
     "output_type": "stream",
     "text": [
      "shape1 (2999, 175)\n",
      "shape2 (12918, 175)\n"
     ]
    }
   ],
   "source": [
    "print(\"shape1\",X_train.shape)\n",
    "print(\"shape2\",X_test.shape)"
   ]
  },
  {
   "cell_type": "code",
   "execution_count": 11,
   "id": "06a30f99",
   "metadata": {
    "scrolled": true
   },
   "outputs": [
    {
     "name": "stdout",
     "output_type": "stream",
     "text": [
      "0    Yes\n",
      "1    Yes\n",
      "2    Yes\n",
      "3    Yes\n",
      "4    Yes\n",
      "Name: FRAUDFOUND, dtype: object\n",
      "0    Yes\n",
      "1    Yes\n",
      "2    Yes\n",
      "3    Yes\n",
      "4    Yes\n",
      "Name: FRAUDFOUND, dtype: object\n"
     ]
    }
   ],
   "source": [
    "# Getting the target column for training and testing\n",
    "y_train = trainData.iloc[:,-1]\n",
    "print(y_train.head())\n",
    "y_test = testData.iloc[:,-1]\n",
    "print(y_test.head())"
   ]
  },
  {
   "cell_type": "code",
   "execution_count": 12,
   "id": "5b6984b6",
   "metadata": {},
   "outputs": [
    {
     "name": "stdout",
     "output_type": "stream",
     "text": [
      "Accuracy score (testing) - Decision Tree:0.886825\n",
      "Confusion Matrix for Decision Tree\n",
      "[[11016  1404]\n",
      " [   58   440]]\n",
      "Classification Report\n",
      "              precision    recall  f1-score   support\n",
      "\n",
      "          No       0.99      0.89      0.94     12420\n",
      "         Yes       0.24      0.88      0.38       498\n",
      "\n",
      "    accuracy                           0.89     12918\n",
      "   macro avg       0.62      0.89      0.66     12918\n",
      "weighted avg       0.97      0.89      0.92     12918\n",
      "\n"
     ]
    }
   ],
   "source": [
    "# Baseline Decision Tree classifier\n",
    "clf = DecisionTreeClassifier()\n",
    "clf.fit(X_train, y_train)\n",
    "clf_predict=clf.predict(X_test)\n",
    "print(\"Accuracy score (testing) - Decision Tree:{0:6f}\".format(clf.score(X_test,y_test)))\n",
    "print(\"Confusion Matrix for Decision Tree\")\n",
    "print(confusion_matrix(y_test,clf_predict))\n",
    "print(\"Classification Report\")\n",
    "print(classification_report(y_test,clf_predict))"
   ]
  },
  {
   "cell_type": "code",
   "execution_count": 13,
   "id": "93d2e487",
   "metadata": {},
   "outputs": [
    {
     "name": "stdout",
     "output_type": "stream",
     "text": [
      "Random SearchCV - Decision Tree\n",
      "{'min_samples_leaf': 15, 'max_features': 15, 'max_depth': 20, 'criterion': 'entropy'}\n",
      "--- 0.4526519775390625 seconds ---\n"
     ]
    }
   ],
   "source": [
    "# Random Search for Decision Tree\n",
    "start_time = time.time()\n",
    "print(\"Random SearchCV - Decision Tree\")\n",
    "parameters={'min_samples_leaf' : range(5,50,5),\n",
    "            'max_depth': range(5,30,5),\n",
    "            'criterion':['gini','entropy'],\n",
    "            'max_features':range(5,20)\n",
    "            }\n",
    "clf_random = RandomizedSearchCV(clf,parameters,n_iter=10,cv=5)\n",
    "clf_random.fit(X_train, y_train)\n",
    "grid_param=clf_random.best_params_\n",
    "print(grid_param)\n",
    "print(\"--- %s seconds ---\" % (time.time() - start_time))"
   ]
  },
  {
   "cell_type": "code",
   "execution_count": 14,
   "id": "b761570e",
   "metadata": {},
   "outputs": [
    {
     "name": "stdout",
     "output_type": "stream",
     "text": [
      "GridSearchCV - Decision Tree\n",
      "{'criterion': 'gini', 'max_depth': 20, 'max_features': 13, 'min_samples_leaf': 20}\n",
      "--- 55.52418780326843 seconds ---\n"
     ]
    }
   ],
   "source": [
    "# Grid Search for Decision Tree\n",
    "start_time = time.time()\n",
    "print(\"GridSearchCV - Decision Tree\")\n",
    "clf_grid = GridSearchCV(clf,parameters,cv=5)\n",
    "clf_grid.fit(X_train, y_train)\n",
    "grid_param_1=clf_grid.best_params_\n",
    "print(grid_param_1)\n",
    "print(\"--- %s seconds ---\" % (time.time() - start_time))"
   ]
  },
  {
   "cell_type": "code",
   "execution_count": 15,
   "id": "2bdba7b4",
   "metadata": {},
   "outputs": [
    {
     "name": "stdout",
     "output_type": "stream",
     "text": [
      "Accuracy (testing) after random search for Decision Tree:0.872271\n",
      "Accuracy (testing) after grid search for Decision Tree:0.898127\n",
      "\n",
      "\n",
      "Confusion Matrix after Random Search for Decision Tree (Testing)\n",
      "[[11086  1334]\n",
      " [  316   182]]\n",
      "Classification Report for Random Search\n",
      "              precision    recall  f1-score   support\n",
      "\n",
      "          No       0.97      0.89      0.93     12420\n",
      "         Yes       0.12      0.37      0.18       498\n",
      "\n",
      "    accuracy                           0.87     12918\n",
      "   macro avg       0.55      0.63      0.56     12918\n",
      "weighted avg       0.94      0.87      0.90     12918\n",
      "\n",
      "\n",
      "\n",
      "Confusion Matrix after Grid Search for Decision Tree (Testing)\n",
      "[[11446   974]\n",
      " [  342   156]]\n",
      "Classification Report for Grid Search (Testing)\n",
      "              precision    recall  f1-score   support\n",
      "\n",
      "          No       0.97      0.92      0.95     12420\n",
      "         Yes       0.14      0.31      0.19       498\n",
      "\n",
      "    accuracy                           0.90     12918\n",
      "   macro avg       0.55      0.62      0.57     12918\n",
      "weighted avg       0.94      0.90      0.92     12918\n",
      "\n",
      "[0.69519231 0.67788462 0.53125    0.52548077 0.56481256]\n",
      "\n",
      "\n"
     ]
    }
   ],
   "source": [
    "# Using parameters obtained from Hyperparameter Tuning in the Decision Tree Classifier \n",
    "clf = DecisionTreeClassifier(**grid_param)\n",
    "clf1 = DecisionTreeClassifier(**grid_param_1)\n",
    "\n",
    "clf.fit(X_train,y_train)\n",
    "clf_predict = clf.predict(X_test)\n",
    "clf1.fit(X_train,y_train)\n",
    "clf1_predict = clf1.predict(X_test)\n",
    "\n",
    "# Accuracy, confusion matrix and classification report\n",
    "print(\"Accuracy (testing) after random search for Decision Tree:{0:6f}\".format(clf.score(X_test,y_test)))\n",
    "print(\"Accuracy (testing) after grid search for Decision Tree:{0:6f}\".format(clf1.score(X_test,y_test)))\n",
    "print(\"\\n\")\n",
    "print(\"Confusion Matrix after Random Search for Decision Tree (Testing)\")\n",
    "print(confusion_matrix(y_test,clf_predict))\n",
    "print(\"Classification Report for Random Search\")\n",
    "print(classification_report(y_test,clf_predict))\n",
    "print('\\n')\n",
    "print(\"Confusion Matrix after Grid Search for Decision Tree (Testing)\")\n",
    "print(confusion_matrix(y_test,clf1_predict))\n",
    "print(\"Classification Report for Grid Search (Testing)\")\n",
    "print(classification_report(y_test,clf1_predict))\n",
    "\n",
    "clf_cv_score = cross_val_score(clf, X_train, y_train, cv=5, scoring=\"balanced_accuracy\")\n",
    "print(clf_cv_score)\n",
    "print(\"\\n\")"
   ]
  },
  {
   "cell_type": "code",
   "execution_count": 16,
   "id": "74ee6fc6",
   "metadata": {},
   "outputs": [
    {
     "name": "stdout",
     "output_type": "stream",
     "text": [
      "Accuracy Score - Random Forest:0.950844\n",
      "Confusion Matrix for Random Forest\n",
      "[[11864   556]\n",
      " [   79   419]]\n",
      "Classification Report for Random Forest\n",
      "              precision    recall  f1-score   support\n",
      "\n",
      "          No       0.99      0.96      0.97     12420\n",
      "         Yes       0.43      0.84      0.57       498\n",
      "\n",
      "    accuracy                           0.95     12918\n",
      "   macro avg       0.71      0.90      0.77     12918\n",
      "weighted avg       0.97      0.95      0.96     12918\n",
      "\n"
     ]
    }
   ],
   "source": [
    "# Baseline Random Forest model\n",
    "rand_param={'min_samples_leaf' : range(5,25),\n",
    "                 'max_depth': range(2,20,2),\n",
    "                 'max_features':range(5,15),\n",
    "                 'n_estimators':[10,15,20]}\n",
    "rfc = RandomForestClassifier()\n",
    "rfc.fit(X_train, y_train)\n",
    "rfc_predict=rfc.predict(X_test)\n",
    "print(\"Accuracy Score - Random Forest:{0:6f}\".format(rfc.score(X_test,y_test)))\n",
    "print(\"Confusion Matrix for Random Forest\")\n",
    "print(confusion_matrix(y_test,rfc_predict))\n",
    "print(\"Classification Report for Random Forest\")\n",
    "print(classification_report(y_test,rfc_predict))"
   ]
  },
  {
   "cell_type": "code",
   "execution_count": 17,
   "id": "cc2d2df2",
   "metadata": {},
   "outputs": [
    {
     "name": "stdout",
     "output_type": "stream",
     "text": [
      "{'n_estimators': 20, 'min_samples_leaf': 7, 'max_features': 14, 'max_depth': 10}\n",
      "\n",
      "\n",
      "--- 1.4717299938201904 seconds ---\n"
     ]
    }
   ],
   "source": [
    "# Random Search for Random Forest\n",
    "import time\n",
    "start_time = time.time()\n",
    "rfc_random = RandomizedSearchCV(rfc,rand_param,n_iter=10,cv=5)\n",
    "rfc_random.fit(X_train, y_train)\n",
    "rand_param_rfc=rfc_random.best_params_\n",
    "print(rand_param_rfc)\n",
    "rfc= RandomForestClassifier(**rand_param_rfc)\n",
    "rfc.fit(X_train,y_train)\n",
    "rfc_predict = rfc.predict(X_test)\n",
    "print('\\n')\n",
    "print(\"--- %s seconds ---\" % (time.time() - start_time))"
   ]
  },
  {
   "cell_type": "code",
   "execution_count": 18,
   "id": "2b7a67d6",
   "metadata": {},
   "outputs": [
    {
     "name": "stdout",
     "output_type": "stream",
     "text": [
      "{'max_depth': 14, 'max_features': 13, 'min_samples_leaf': 5, 'n_estimators': 15}\n",
      "\n",
      "\n",
      "--- 724.8738648891449 seconds ---\n"
     ]
    }
   ],
   "source": [
    "# Grid Search for Random Forest\n",
    "import time\n",
    "start_time = time.time()\n",
    "rfc_grid = GridSearchCV(rfc,rand_param,cv=5)\n",
    "rfc_grid.fit(X_train, y_train)\n",
    "grid_param_rfc=rfc_grid.best_params_\n",
    "print(grid_param_rfc)\n",
    "rfc1= RandomForestClassifier(**grid_param_rfc)\n",
    "rfc1.fit(X_train,y_train)\n",
    "rfc1_predict = rfc1.predict(X_test)\n",
    "print('\\n')\n",
    "print(\"--- %s seconds ---\" % (time.time() - start_time))"
   ]
  },
  {
   "cell_type": "code",
   "execution_count": 19,
   "id": "93bec9d7",
   "metadata": {},
   "outputs": [
    {
     "name": "stdout",
     "output_type": "stream",
     "text": [
      "Accuracy (testing) after Random Search for Random Forest:0.947747\n",
      "Confusion Matrix after Random Search for Random Forest\n",
      "[[12152   268]\n",
      " [  407    91]]\n",
      "Classification Report after Grid Search for Random Forest\n",
      "              precision    recall  f1-score   support\n",
      "\n",
      "          No       0.97      0.98      0.97     12420\n",
      "         Yes       0.25      0.18      0.21       498\n",
      "\n",
      "    accuracy                           0.95     12918\n",
      "   macro avg       0.61      0.58      0.59     12918\n",
      "weighted avg       0.94      0.95      0.94     12918\n",
      "\n",
      "Accuracy (testing) after Grid Search for Random Forest:0.943877\n",
      "Confusion Matrix after Grid Search for Random Forest\n",
      "[[12065   355]\n",
      " [  370   128]]\n",
      "Classification Report after Grid Search for Random Forest\n",
      "              precision    recall  f1-score   support\n",
      "\n",
      "          No       0.97      0.97      0.97     12420\n",
      "         Yes       0.27      0.26      0.26       498\n",
      "\n",
      "    accuracy                           0.94     12918\n",
      "   macro avg       0.62      0.61      0.62     12918\n",
      "weighted avg       0.94      0.94      0.94     12918\n",
      "\n",
      "[0.87333333 0.9        0.87       0.86666667 0.88146912]\n"
     ]
    }
   ],
   "source": [
    "# Accuracy, confusion matrix and classification report\n",
    "print(\"Accuracy (testing) after Random Search for Random Forest:{0:6f}\".format(rfc.score(X_test,y_test)))\n",
    "print(\"Confusion Matrix after Random Search for Random Forest\")\n",
    "print(confusion_matrix(y_test,rfc_predict))\n",
    "print(\"Classification Report after Grid Search for Random Forest\")\n",
    "print(classification_report(y_test,rfc_predict))\n",
    "\n",
    "print(\"Accuracy (testing) after Grid Search for Random Forest:{0:6f}\".format(rfc1.score(X_test,y_test)))\n",
    "print(\"Confusion Matrix after Grid Search for Random Forest\")\n",
    "print(confusion_matrix(y_test,rfc1_predict))\n",
    "print(\"Classification Report after Grid Search for Random Forest\")\n",
    "print(classification_report(y_test,rfc1_predict))\n",
    "rfc1_cv_score = cross_val_score(rfc1, X_train, y_train)\n",
    "print(rfc1_cv_score)"
   ]
  }
 ],
 "metadata": {
  "kernelspec": {
   "display_name": "Python 3 (ipykernel)",
   "language": "python",
   "name": "python3"
  },
  "language_info": {
   "codemirror_mode": {
    "name": "ipython",
    "version": 3
   },
   "file_extension": ".py",
   "mimetype": "text/x-python",
   "name": "python",
   "nbconvert_exporter": "python",
   "pygments_lexer": "ipython3",
   "version": "3.9.12"
  }
 },
 "nbformat": 4,
 "nbformat_minor": 5
}
